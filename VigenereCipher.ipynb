{
 "cells": [
  {
   "cell_type": "markdown",
   "metadata": {},
   "source": [
    "## Vigenere Cipher Code\n",
    "\n",
    "Kaitlyn Leta \n",
    "\n",
    "Date: 9/19/2020"
   ]
  },
  {
   "cell_type": "code",
   "execution_count": 1,
   "metadata": {},
   "outputs": [],
   "source": [
    "def encryptPlaintextVC(plaintext, key):\n",
    "    plaintextLength = len(plaintext)\n",
    "    plaintextInt = [ord(i) for i in plaintext]\n",
    "    \n",
    "    repeatedKey = repeat_to_length(key, plaintextLength)\n",
    "    repeatedKeyInt = [ord(i) for i in repeatedKey]\n",
    "    \n",
    "    ciphertext = ''\n",
    "    \n",
    "    for i in range(plaintextLength):\n",
    "        temp = ((plaintextInt[i] + repeatedKeyInt[i] - 12)) % 26\n",
    "        ciphertext += chr(temp + 65)\n",
    "                \n",
    "    return ciphertext"
   ]
  },
  {
   "cell_type": "code",
   "execution_count": 2,
   "metadata": {},
   "outputs": [],
   "source": [
    "def decryptCiphertextVC(ciphertext, key):\n",
    "    ciphertextLength = len(ciphertext) \n",
    "    ciphertextInt = [ord(i) for i in ciphertext]    \n",
    "    \n",
    "    repeatedKey = repeat_to_length(key, ciphertextLength)\n",
    "    repeatedKeyInt = [ord(i) for i in repeatedKey]\n",
    "    \n",
    "    plaintext = ''\n",
    "    \n",
    "    for i in range(ciphertextLength):\n",
    "        temp = (repeatedKeyInt[i] - ciphertextInt[i]) % 26\n",
    "        plaintext += chr(temp + 65)\n",
    "                \n",
    "    return plaintext"
   ]
  },
  {
   "cell_type": "code",
   "execution_count": 3,
   "metadata": {},
   "outputs": [],
   "source": [
    "def repeat_to_length(key, length):\n",
    "    return (key * (int(length/len(key))+1))[:length]"
   ]
  },
  {
   "cell_type": "code",
   "execution_count": 4,
   "metadata": {},
   "outputs": [],
   "source": [
    "def vignereCipher():\n",
    "    print (\"Plaintext: \")\n",
    "    plaintext = input()\n",
    "\n",
    "    print (\"Key: \")\n",
    "    key = input()\n",
    "    \n",
    "    ciphertext = encryptPlaintextVC(plaintext,key)\n",
    "    print (\"Encrypted Ciphertext: \",ciphertext)\n",
    "    \n",
    "    plaintext_decr = decryptCiphertextVC(ciphertext,key)\n",
    "    print (\"Decrypted Plaintext:  \",plaintext)"
   ]
  },
  {
   "cell_type": "code",
   "execution_count": 5,
   "metadata": {},
   "outputs": [
    {
     "name": "stdout",
     "output_type": "stream",
     "text": [
      "Plaintext: \n",
      "themanandthewomenretrievedtheletterfromthepostoffice\n",
      "Key: \n",
      "beads\n",
      "Encrypted Ciphertext:  ULEPSOENGLIIWREFRRHLSMEYWEXHHDFXTHJGVOPLIIPRKUSFIADI\n",
      "Decrypted Plaintext:   themanandthewomenretrievedtheletterfromthepostoffice\n"
     ]
    }
   ],
   "source": [
    "vignereCipher()"
   ]
  }
 ],
 "metadata": {
  "kernelspec": {
   "display_name": "Python 3",
   "language": "python",
   "name": "python3"
  },
  "language_info": {
   "codemirror_mode": {
    "name": "ipython",
    "version": 3
   },
   "file_extension": ".py",
   "mimetype": "text/x-python",
   "name": "python",
   "nbconvert_exporter": "python",
   "pygments_lexer": "ipython3",
   "version": "3.7.4"
  }
 },
 "nbformat": 4,
 "nbformat_minor": 2
}
